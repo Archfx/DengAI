{
 "cells": [
  {
   "cell_type": "code",
   "execution_count": 1,
   "metadata": {},
   "outputs": [],
   "source": [
    "import pandas as pd\n",
    "import numpy as np\n",
    "import seaborn as sns\n",
    "import matplotlib.pyplot as plt\n",
    "from sklearn.linear_model import LinearRegression\n",
    "from sklearn.metrics import mean_absolute_error\n",
    "%matplotlib inline"
   ]
  },
  {
   "cell_type": "code",
   "execution_count": 2,
   "metadata": {},
   "outputs": [],
   "source": [
    "training_records = pd.read_csv('dengue_features_train.csv')\n",
    "testing_records = pd.read_csv('dengue_features_test.csv')"
   ]
  },
  {
   "cell_type": "code",
   "execution_count": 3,
   "metadata": {},
   "outputs": [],
   "source": [
    "training_records_sj = training_records[training_records['city'] == 'sj'].drop('city', 1)\n",
    "training_records_iq = training_records[training_records['city'] == 'iq'].drop('city', 1)\n",
    "testing_records_sj = testing_records[testing_records['city'] == 'sj'].drop('city', 1)\n",
    "testing_records_iq = testing_records[testing_records['city'] == 'iq'].drop('city', 1)\n",
    "records_iq = pd.concat([training_records_iq, testing_records_iq], ignore_index=True)\n",
    "records_sj = pd.concat([training_records_sj, testing_records_sj], ignore_index=True)"
   ]
  },
  {
   "cell_type": "code",
   "execution_count": 4,
   "metadata": {},
   "outputs": [],
   "source": [
    "records_iq.drop(['reanalysis_avg_temp_k','reanalysis_sat_precip_amt_mm', 'reanalysis_specific_humidity_g_per_kg'], axis=1, inplace=True)\n",
    "records_sj.drop(['reanalysis_avg_temp_k','reanalysis_sat_precip_amt_mm', 'reanalysis_specific_humidity_g_per_kg'], axis=1, inplace=True)\n",
    "records_iq.drop(['year'], axis=1, inplace=True)\n",
    "records_sj.drop(['year'], axis=1, inplace=True)\n",
    "records_iq[['reanalysis_air_temp_k', 'reanalysis_dew_point_temp_k', 'reanalysis_max_air_temp_k', \n",
    "            'reanalysis_min_air_temp_k']] -= 273.15\n",
    "records_sj[['reanalysis_air_temp_k', 'reanalysis_dew_point_temp_k', 'reanalysis_max_air_temp_k', \n",
    "            'reanalysis_min_air_temp_k']] -= 273.15\n",
    "records_iq['station_temp'] = records_iq[\n",
    "    ['station_avg_temp_c', 'station_max_temp_c', 'station_min_temp_c']\n",
    "].interpolate().mean(axis=1)\n",
    "records_iq.drop(['station_avg_temp_c', 'station_diur_temp_rng_c', \n",
    "                          'station_max_temp_c', 'station_min_temp_c'], axis=1, inplace=True)\n",
    "records_sj['station_temp'] = records_sj[\n",
    "    ['station_avg_temp_c', 'station_max_temp_c', 'station_min_temp_c']\n",
    "].interpolate().mean(axis=1)\n",
    "records_sj.drop(['station_avg_temp_c', 'station_diur_temp_rng_c', \n",
    "                          'station_max_temp_c', 'station_min_temp_c'], axis=1, inplace=True)"
   ]
  },
  {
   "cell_type": "code",
   "execution_count": 5,
   "metadata": {},
   "outputs": [],
   "source": [
    "records_iq.to_csv('./Files/PreProcessed-features-iq.csv', index=False)\n",
    "records_sj.to_csv('./Files/PreProcessed-features-sj.csv', index=False)"
   ]
  },
  {
   "cell_type": "code",
   "execution_count": 6,
   "metadata": {},
   "outputs": [],
   "source": [
    "training_targets = pd.read_csv('dengue_labels_train.csv')"
   ]
  },
  {
   "cell_type": "code",
   "execution_count": 7,
   "metadata": {},
   "outputs": [],
   "source": [
    "training_targets.drop(['year'], axis=1, inplace=True)\n",
    "training_targets['week_start_date'] = training_records['week_start_date']\n",
    "training_targets_sj = training_targets[training_targets['city'] == 'sj'].drop('city', 1)\n",
    "training_targets_iq = training_targets[training_targets['city'] == 'iq'].drop('city', 1)"
   ]
  },
  {
   "cell_type": "code",
   "execution_count": 8,
   "metadata": {},
   "outputs": [],
   "source": [
    "training_targets_iq.to_csv('./Files/PreProcessed-labels-train-iq.csv', index=False)\n",
    "training_targets_sj.to_csv('./Files/PreProcessed-labels-train-sj.csv', index=False)"
   ]
  },
  {
   "cell_type": "code",
   "execution_count": 18,
   "metadata": {},
   "outputs": [],
   "source": [
    "records_iq = pd.read_csv(\n",
    "    './Files/PreProcessed-features-iq.csv', \n",
    "    parse_dates=['week_start_date'],\n",
    "    index_col='week_start_date'\n",
    ").interpolate()\n",
    "records_sj = pd.read_csv(\n",
    "    './Files/PreProcessed-features-sj.csv', \n",
    "    parse_dates=['week_start_date'],\n",
    "    index_col='week_start_date'\n",
    ").interpolate()\n",
    "labels_iq = pd.read_csv(\n",
    "    './Files/PreProcessed-labels-train-iq.csv',\n",
    "    parse_dates=['week_start_date'],\n",
    "    index_col='week_start_date'\n",
    ")\n",
    "labels_sj = pd.read_csv(\n",
    "    './Files/PreProcessed-labels-train-sj.csv',\n",
    "    parse_dates=['week_start_date'],\n",
    "    index_col='week_start_date'\n",
    ")"
   ]
  },
  {
   "cell_type": "code",
   "execution_count": 77,
   "metadata": {},
   "outputs": [],
   "source": [
    "def getPredictions(Id, totalRecords,labels,numOfTrain , period ,features):\n",
    "    ##One hot encode weekofyear\n",
    "    weeks = pd.get_dummies(totalRecords['weekofyear'], prefix='w')\n",
    "    train_time , test_time = weeks[:numOfTrain].reset_index().drop('week_start_date'\n",
    "                                                                 , axis=1) ,weeks[numOfTrain:].reset_index().drop('week_start_date', axis=1)\n",
    "    train_cases = labels[['total_cases']].reset_index().drop('week_start_date', axis=1)\n",
    "    \n",
    "    ####Seasonality prediction model\n",
    "    seasonal_model = LinearRegression()\n",
    "    seasonal_model.fit(train_time, train_cases)\n",
    "    \n",
    "    seasonal_train = pd.Series(\n",
    "        seasonal_model.predict(train_time).flatten()).rolling(5, min_periods=1, center=True).mean()\n",
    "    \n",
    "    train_trendComponent = train_cases.total_cases - seasonal_train\n",
    "    \n",
    "    trend = totalRecords[features].reset_index().drop('week_start_date', axis=1).rolling(period).mean()\n",
    "    \n",
    "    train_trend = trend[period:numOfTrain]\n",
    "    test_trend = trend[numOfTrain:]\n",
    "    train_remainder = train_trendComponent[period:]\n",
    "    \n",
    "    ####Trend prediction model\n",
    "    trend_model = LinearRegression()\n",
    "    trend_model.fit(train_trend, train_remainder)\n",
    "    train_pred_trend = pd.Series(trend_model.predict(train_trend).flatten())\n",
    "\n",
    "    print('Mean_absolute_error for example '+str(Id) +\" - \"+ str(mean_absolute_error(y_pred=train_pred_trend.values + seasonal_train[period:].values,\n",
    "                    y_true=train_cases['total_cases'][period:].values)))\n",
    "\n",
    "    predicted_seasonal = pd.Series(seasonal_model.predict(test_time).flatten())\n",
    "    predicted_trend = pd.Series(trend_model.predict(test_trend).flatten())\n",
    "\n",
    "    pred = (predicted_trend + predicted_seasonal).rolling(5, min_periods=1, center=True).mean().astype(int)\n",
    "    return pred"
   ]
  },
  {
   "cell_type": "code",
   "execution_count": 78,
   "metadata": {},
   "outputs": [
    {
     "name": "stdout",
     "output_type": "stream",
     "text": [
      "Mean_absolute_error for example 1 - 6.210807518603868\n",
      "Mean_absolute_error for example 2 - 25.255731914989166\n"
     ]
    }
   ],
   "source": [
    "pred_iq = getPredictions(1,records_iq, labels_iq, 520, 53, [\n",
    "    'reanalysis_precip_amt_kg_per_m2',\n",
    "    'reanalysis_relative_humidity_percent', \n",
    "    'station_temp'\n",
    "])\n",
    "pred_sj = getPredictions(2,records_sj, labels_sj, 936, 53, [\n",
    "    'reanalysis_precip_amt_kg_per_m2',\n",
    "    'reanalysis_relative_humidity_percent',\n",
    "    'station_temp'\n",
    "])"
   ]
  },
  {
   "cell_type": "code",
   "execution_count": 80,
   "metadata": {},
   "outputs": [],
   "source": [
    "pred = pd.concat([pred_sj, pred_iq], ignore_index=True).round().clip(lower=0)"
   ]
  },
  {
   "cell_type": "code",
   "execution_count": 79,
   "metadata": {},
   "outputs": [],
   "source": [
    "pred.to_csv('./Files/Prediction-seasonal-trend-prediction-' + '.csv', index=False, header=False)"
   ]
  },
  {
   "cell_type": "code",
   "execution_count": null,
   "metadata": {},
   "outputs": [],
   "source": []
  }
 ],
 "metadata": {
  "kernelspec": {
   "display_name": "Python 3",
   "language": "python",
   "name": "python3"
  },
  "language_info": {
   "codemirror_mode": {
    "name": "ipython",
    "version": 3
   },
   "file_extension": ".py",
   "mimetype": "text/x-python",
   "name": "python",
   "nbconvert_exporter": "python",
   "pygments_lexer": "ipython3",
   "version": "3.6.7"
  }
 },
 "nbformat": 4,
 "nbformat_minor": 2
}
